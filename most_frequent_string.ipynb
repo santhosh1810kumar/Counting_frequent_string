{
  "nbformat": 4,
  "nbformat_minor": 0,
  "metadata": {
    "colab": {
      "name": "most_frequent_string.ipynb",
      "provenance": []
    },
    "kernelspec": {
      "name": "python3",
      "display_name": "Python 3"
    },
    "language_info": {
      "name": "python"
    }
  },
  "cells": [
    {
      "cell_type": "code",
      "metadata": {
        "id": "eJbVTI1_W4wb"
      },
      "source": [
        "string=input(\"Enter the string \")\n",
        "text=[None]*len(string)\n",
        "for i in range(0,len(string)):\n",
        "  text[i]=1\n",
        "  for j in range(i+1,len(string)):\n",
        "    if(string[i]==string[j]):\n",
        "        text[i]=text[i]+1\n",
        "        string=string[:j]+'0'+string[j+1:];\n",
        "print(\"Character and their frequency\");\n",
        "for i in range(0,len(text)):\n",
        "    if(string[i]!=' ' and string[i]!='0'):\n",
        "        print(string[i]+\"=\"+str(text[i]))"
      ],
      "execution_count": null,
      "outputs": []
    },
    {
      "cell_type": "markdown",
      "metadata": {
        "id": "NAGZ9WGLVQHg"
      },
      "source": [
        "#Using dictionaries"
      ]
    },
    {
      "cell_type": "code",
      "metadata": {
        "id": "zno1uliqR4FA"
      },
      "source": [
        "import operator\n",
        "\n",
        "if __name__ == '__main__':\n",
        "\n",
        "    text = input(\"Enter the text : \\n \")\n",
        "    string_dict = dict()\n",
        "    for letter in text:\n",
        "        if letter not in string_dict:\n",
        "            string_dict[letter] = text.count(letter)    \n",
        "    ordered_answer = sorted(string_dict.items(), key=operator.itemgetter(1), reverse=True)\n",
        "    print (ordered_answer)"
      ],
      "execution_count": null,
      "outputs": []
    },
    {
      "cell_type": "code",
      "metadata": {
        "id": "HCt0I-X6VfsU"
      },
      "source": [
        "input_string = input(\"Enter the text : \\n \")\n",
        "frequencies = {} \n",
        "  \n",
        "for char in input_string: \n",
        "   if char in frequencies: \n",
        "      frequencies[char] += 1\n",
        "   else: \n",
        "      frequencies[char] = 1\n",
        "\n",
        "# Show Output\n",
        "print (\"Per char frequency in '{}' is :\\n {}\".format(input_string, str(frequencies)))"
      ],
      "execution_count": null,
      "outputs": []
    },
    {
      "cell_type": "markdown",
      "metadata": {
        "id": "0Iw3MOaeVpYE"
      },
      "source": [
        "#Using collections.Counter()"
      ]
    },
    {
      "cell_type": "code",
      "metadata": {
        "id": "V_2DzNGtVwfH"
      },
      "source": [
        "from collections import Counter\n",
        "\n",
        "input_string = input(\"Enter the text : \\n \")\n",
        "\n",
        "frequency = Counter(input_string)\n",
        "\n",
        "# Show Output\n",
        "print (\"char frequency in '{}' is :\\n {}\".format(input_string, str(frequency)))\n",
        "#Show type\n",
        "print (\"Type of frequency_per_char is: \", type(frequency))"
      ],
      "execution_count": null,
      "outputs": []
    },
    {
      "cell_type": "markdown",
      "metadata": {
        "id": "8tquZ8STWNXW"
      },
      "source": [
        "#Using Python set()"
      ]
    },
    {
      "cell_type": "code",
      "metadata": {
        "id": "jB2qrazWWNpK"
      },
      "source": [
        "input_string = input(\"Enter the text : \\n \")\n",
        "\n",
        "frequency = {char : input_string.count(char) for char in set(input_string)} \n",
        "\n",
        "# Show Output\n",
        "print (\"Character frequency table for '{}' is :\\n {}\".format(input_string, str(frequency)))"
      ],
      "execution_count": null,
      "outputs": []
    }
  ]
}